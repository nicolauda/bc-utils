{
 "cells": [
  {
   "cell_type": "code",
   "execution_count": null,
   "metadata": {},
   "outputs": [],
   "source": [
    "\"\"\"\n",
    "This Jupyter Notebook extracts instrument symbols from the CONTRACT_MAP in the bcutils.config module,\n",
    "saves them to a CSV file in the user's home directory under data/barchart/bc_instruments_list.csv,\n",
    "and demonstrates different methods for writing these symbols to the CSV file.\n",
    "\"\"\""
   ]
  },
  {
   "cell_type": "code",
   "execution_count": 1,
   "metadata": {},
   "outputs": [],
   "source": [
    "import csv\n",
    "from bcutils.config import CONTRACT_MAP\n",
    "import os\n",
    "\n",
    "HOME_FOLDER = os.path.expanduser('~')\n",
    "BC_INSTRUMENTS_FILE = os.path.join(HOME_FOLDER, \"data\",\"barchart\", \"bc_instruments_list.csv\")"
   ]
  },
  {
   "cell_type": "code",
   "execution_count": 2,
   "metadata": {},
   "outputs": [],
   "source": [
    "bc_instruments_list = list(CONTRACT_MAP.keys())"
   ]
  },
  {
   "cell_type": "markdown",
   "metadata": {},
   "source": [
    "Save to CSV file"
   ]
  },
  {
   "cell_type": "code",
   "execution_count": 3,
   "metadata": {},
   "outputs": [],
   "source": [
    "fields = ['Symbol']\n",
    "rows = bc_instruments_list\n",
    "\n",
    "with open(BC_INSTRUMENTS_FILE, 'w') as csvfile:\n",
    "    # creating a csv writer object\n",
    "    csvwriter = csv.writer(csvfile)\n",
    "    # # writing the fields\n",
    "    # csvwriter.writerow(fields)\n",
    "    # writing the data rows\n",
    "    csvwriter.writerows([[row] for row in rows])\n",
    "    # csvwriter.writerows(rows)"
   ]
  },
  {
   "cell_type": "code",
   "execution_count": 6,
   "metadata": {},
   "outputs": [],
   "source": [
    "rows = bc_instruments_list\n",
    "with open(BC_INSTRUMENTS_FILE, 'w') as csvfile:\n",
    "    # creating a csv writer object\n",
    "    csvwriter = csv.writer(csvfile)\n",
    "    for row in rows:\n",
    "        # csvwriter.writerows([[f\"  - {row}\"]])\n",
    "        csvwriter.writerow([f\"  - {row}\"])"
   ]
  }
 ],
 "metadata": {
  "kernelspec": {
   "display_name": ".venv",
   "language": "python",
   "name": "python3"
  },
  "language_info": {
   "codemirror_mode": {
    "name": "ipython",
    "version": 3
   },
   "file_extension": ".py",
   "mimetype": "text/x-python",
   "name": "python",
   "nbconvert_exporter": "python",
   "pygments_lexer": "ipython3",
   "version": "3.13.2"
  }
 },
 "nbformat": 4,
 "nbformat_minor": 2
}
